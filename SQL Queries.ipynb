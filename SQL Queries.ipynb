{
 "cells": [
  {
   "cell_type": "code",
   "execution_count": 0,
   "metadata": {
    "application/vnd.databricks.v1+cell": {
     "cellMetadata": {
      "byteLimit": 2048000,
      "rowLimit": 10000
     },
     "inputWidgets": {},
     "nuid": "3c5acda6-2d4c-4b69-919e-79307eed9d54",
     "showTitle": false,
     "title": ""
    }
   },
   "outputs": [
    {
     "output_type": "display_data",
     "data": {
      "text/html": [
       "<style scoped>\n",
       "  .ansiout {\n",
       "    display: block;\n",
       "    unicode-bidi: embed;\n",
       "    white-space: pre-wrap;\n",
       "    word-wrap: break-word;\n",
       "    word-break: break-all;\n",
       "    font-family: \"Source Code Pro\", \"Menlo\", monospace;;\n",
       "    font-size: 13px;\n",
       "    color: #555;\n",
       "    margin-left: 4px;\n",
       "    line-height: 19px;\n",
       "  }\n",
       "</style>\n",
       "<div class=\"ansiout\"></div>"
      ]
     },
     "metadata": {
      "application/vnd.databricks.v1+output": {
       "addedWidgets": {},
       "arguments": {},
       "data": "<div class=\"ansiout\"></div>",
       "datasetInfos": [],
       "metadata": {},
       "removedWidgets": [],
       "type": "html"
      }
     },
     "output_type": "display_data"
    }
   ],
   "source": [
    "df_pin = spark.table(\"pin_data\")\n",
    "df_geo= spark.table(\"geo_data\")\n",
    "df_user=spark.table(\"user_data\")\n",
    "df_pin.createOrReplaceTempView(\"df_pin\")\n",
    "df_geo.createOrReplaceTempView(\"df_geo\")\n",
    "df_user.createOrReplaceTempView(\"df_user\")\n",
    "\n"
   ]
  },
  {
   "cell_type": "code",
   "execution_count": 0,
   "metadata": {
    "application/vnd.databricks.v1+cell": {
     "cellMetadata": {
      "byteLimit": 2048000,
      "rowLimit": 10000
     },
     "inputWidgets": {},
     "nuid": "ecffc21c-3b5d-4bf6-aaaa-2c8ed7fd1792",
     "showTitle": false,
     "title": ""
    }
   },
   "outputs": [
    {
     "output_type": "display_data",
     "data": {
      "text/html": [
       "<style scoped>\n",
       "  .ansiout {\n",
       "    display: block;\n",
       "    unicode-bidi: embed;\n",
       "    white-space: pre-wrap;\n",
       "    word-wrap: break-word;\n",
       "    word-break: break-all;\n",
       "    font-family: \"Source Code Pro\", \"Menlo\", monospace;;\n",
       "    font-size: 13px;\n",
       "    color: #555;\n",
       "    margin-left: 4px;\n",
       "    line-height: 19px;\n",
       "  }\n",
       "</style>\n",
       "<div class=\"ansiout\">root\n",
       "-- ind: long (nullable = true)\n",
       "-- unique_id: string (nullable = true)\n",
       "-- title: string (nullable = true)\n",
       "-- description: string (nullable = true)\n",
       "-- follower_count: integer (nullable = true)\n",
       "-- poster_name: string (nullable = true)\n",
       "-- tag_list: string (nullable = true)\n",
       "-- is_image_or_video: string (nullable = true)\n",
       "-- image_src: string (nullable = true)\n",
       "-- save_location: string (nullable = true)\n",
       "-- category: string (nullable = true)\n",
       "\n",
       "</div>"
      ]
     },
     "metadata": {
      "application/vnd.databricks.v1+output": {
       "addedWidgets": {},
       "arguments": {},
       "data": "<div class=\"ansiout\">root\n |-- ind: long (nullable = true)\n |-- unique_id: string (nullable = true)\n |-- title: string (nullable = true)\n |-- description: string (nullable = true)\n |-- follower_count: integer (nullable = true)\n |-- poster_name: string (nullable = true)\n |-- tag_list: string (nullable = true)\n |-- is_image_or_video: string (nullable = true)\n |-- image_src: string (nullable = true)\n |-- save_location: string (nullable = true)\n |-- category: string (nullable = true)\n\n</div>",
       "datasetInfos": [],
       "metadata": {},
       "removedWidgets": [],
       "type": "html"
      }
     },
     "output_type": "display_data"
    }
   ],
   "source": [
    "df_pin.printSchema()"
   ]
  },
  {
   "cell_type": "code",
   "execution_count": 0,
   "metadata": {
    "application/vnd.databricks.v1+cell": {
     "cellMetadata": {
      "byteLimit": 2048000,
      "rowLimit": 10000
     },
     "inputWidgets": {},
     "nuid": "57f71a97-d2e6-41cf-87b1-8d6d42dc1392",
     "showTitle": false,
     "title": ""
    }
   },
   "outputs": [
    {
     "output_type": "display_data",
     "data": {
      "text/html": [
       "<style scoped>\n",
       "  .ansiout {\n",
       "    display: block;\n",
       "    unicode-bidi: embed;\n",
       "    white-space: pre-wrap;\n",
       "    word-wrap: break-word;\n",
       "    word-break: break-all;\n",
       "    font-family: \"Source Code Pro\", \"Menlo\", monospace;;\n",
       "    font-size: 13px;\n",
       "    color: #555;\n",
       "    margin-left: 4px;\n",
       "    line-height: 19px;\n",
       "  }\n",
       "</style>\n",
       "<div class=\"ansiout\">root\n",
       "-- ind: long (nullable = true)\n",
       "-- country: string (nullable = true)\n",
       "-- coordinates: array (nullable = true)\n",
       "    |-- element: double (containsNull = true)\n",
       "-- timestamp: timestamp (nullable = true)\n",
       "\n",
       "</div>"
      ]
     },
     "metadata": {
      "application/vnd.databricks.v1+output": {
       "addedWidgets": {},
       "arguments": {},
       "data": "<div class=\"ansiout\">root\n |-- ind: long (nullable = true)\n |-- country: string (nullable = true)\n |-- coordinates: array (nullable = true)\n |    |-- element: double (containsNull = true)\n |-- timestamp: timestamp (nullable = true)\n\n</div>",
       "datasetInfos": [],
       "metadata": {},
       "removedWidgets": [],
       "type": "html"
      }
     },
     "output_type": "display_data"
    }
   ],
   "source": [
    "df_geo.printSchema()"
   ]
  },
  {
   "cell_type": "code",
   "execution_count": 0,
   "metadata": {
    "application/vnd.databricks.v1+cell": {
     "cellMetadata": {
      "byteLimit": 2048000,
      "rowLimit": 10000
     },
     "inputWidgets": {},
     "nuid": "7656e1b4-7b2c-4d24-8aad-1da30d79d616",
     "showTitle": false,
     "title": ""
    }
   },
   "outputs": [
    {
     "output_type": "display_data",
     "data": {
      "text/html": [
       "<style scoped>\n",
       "  .ansiout {\n",
       "    display: block;\n",
       "    unicode-bidi: embed;\n",
       "    white-space: pre-wrap;\n",
       "    word-wrap: break-word;\n",
       "    word-break: break-all;\n",
       "    font-family: \"Source Code Pro\", \"Menlo\", monospace;;\n",
       "    font-size: 13px;\n",
       "    color: #555;\n",
       "    margin-left: 4px;\n",
       "    line-height: 19px;\n",
       "  }\n",
       "</style>\n",
       "<div class=\"ansiout\">root\n",
       "-- ind: long (nullable = true)\n",
       "-- user_name: string (nullable = true)\n",
       "-- age: long (nullable = true)\n",
       "-- date_joined: timestamp (nullable = true)\n",
       "\n",
       "</div>"
      ]
     },
     "metadata": {
      "application/vnd.databricks.v1+output": {
       "addedWidgets": {},
       "arguments": {},
       "data": "<div class=\"ansiout\">root\n |-- ind: long (nullable = true)\n |-- user_name: string (nullable = true)\n |-- age: long (nullable = true)\n |-- date_joined: timestamp (nullable = true)\n\n</div>",
       "datasetInfos": [],
       "metadata": {},
       "removedWidgets": [],
       "type": "html"
      }
     },
     "output_type": "display_data"
    }
   ],
   "source": [
    "df_user.printSchema()"
   ]
  },
  {
   "cell_type": "code",
   "execution_count": 0,
   "metadata": {
    "application/vnd.databricks.v1+cell": {
     "cellMetadata": {
      "byteLimit": 2048000,
      "rowLimit": 10000
     },
     "inputWidgets": {},
     "nuid": "8783d738-0421-4fac-983d-d7df36664e6d",
     "showTitle": false,
     "title": ""
    },
    "jupyter": {
     "outputs_hidden": true,
     "source_hidden": true
    }
   },
   "outputs": [
    {
     "output_type": "display_data",
     "data": {
      "text/html": [
       "<style scoped>\n",
       "  .table-result-container {\n",
       "    max-height: 300px;\n",
       "    overflow: auto;\n",
       "  }\n",
       "  table, th, td {\n",
       "    border: 1px solid black;\n",
       "    border-collapse: collapse;\n",
       "  }\n",
       "  th, td {\n",
       "    padding: 5px;\n",
       "  }\n",
       "  th {\n",
       "    text-align: left;\n",
       "  }\n",
       "</style><div class='table-result-container'><table class='table-result'><thead style='background-color: white'><tr><th>country</th><th>category</th><th>category_count</th></tr></thead><tbody><tr><td>Afghanistan</td><td>education</td><td>34</td></tr><tr><td>Albania</td><td>beauty</td><td>31</td></tr><tr><td>Algeria</td><td>quotes</td><td>64</td></tr><tr><td>American Samoa</td><td>beauty</td><td>20</td></tr><tr><td>Andorra</td><td>tattoos</td><td>21</td></tr><tr><td>Angola</td><td>diy-and-crafts</td><td>18</td></tr><tr><td>Anguilla</td><td>diy-and-crafts</td><td>11</td></tr><tr><td>Antarctica (the territory South of 60 deg S)</td><td>finance</td><td>10</td></tr><tr><td>Antigua and Barbuda</td><td>christmas</td><td>26</td></tr><tr><td>Argentina</td><td>tattoos</td><td>22</td></tr><tr><td>Armenia</td><td>diy-and-crafts</td><td>22</td></tr><tr><td>Aruba</td><td>mens-fashion</td><td>34</td></tr><tr><td>Australia</td><td>mens-fashion</td><td>18</td></tr><tr><td>Austria</td><td>travel</td><td>24</td></tr><tr><td>Azerbaijan</td><td>event-planning</td><td>16</td></tr><tr><td>Bahamas</td><td>travel</td><td>6</td></tr><tr><td>Bahrain</td><td>travel</td><td>8</td></tr><tr><td>Bangladesh</td><td>art</td><td>22</td></tr><tr><td>Barbados</td><td>travel</td><td>14</td></tr><tr><td>Belarus</td><td>vehicles</td><td>5</td></tr><tr><td>Belgium</td><td>travel</td><td>5</td></tr><tr><td>Belize</td><td>mens-fashion</td><td>5</td></tr><tr><td>Benin</td><td>tattoos</td><td>6</td></tr><tr><td>Bermuda</td><td>christmas</td><td>10</td></tr><tr><td>Bhutan</td><td>diy-and-crafts</td><td>8</td></tr><tr><td>Bolivia</td><td>home-decor</td><td>7</td></tr><tr><td>Bosnia and Herzegovina</td><td>christmas</td><td>3</td></tr><tr><td>Botswana</td><td>tattoos</td><td>16</td></tr><tr><td>Bouvet Island (Bouvetoya)</td><td>christmas</td><td>7</td></tr><tr><td>Brazil</td><td>finance</td><td>5</td></tr><tr><td>British Virgin Islands</td><td>christmas</td><td>10</td></tr><tr><td>Brunei Darussalam</td><td>diy-and-crafts</td><td>3</td></tr><tr><td>Bulgaria</td><td>christmas</td><td>11</td></tr><tr><td>Burkina Faso</td><td>quotes</td><td>5</td></tr><tr><td>Burundi</td><td>mens-fashion</td><td>6</td></tr><tr><td>Cambodia</td><td>diy-and-crafts</td><td>14</td></tr><tr><td>Cameroon</td><td>christmas</td><td>4</td></tr><tr><td>Canada</td><td>christmas</td><td>10</td></tr><tr><td>Cape Verde</td><td>home-decor</td><td>10</td></tr><tr><td>Cayman Islands</td><td>travel</td><td>4</td></tr><tr><td>Central African Republic</td><td>christmas</td><td>8</td></tr><tr><td>Chile</td><td>quotes</td><td>10</td></tr><tr><td>Christmas Island</td><td>travel</td><td>12</td></tr><tr><td>Cocos (Keeling) Islands</td><td>vehicles</td><td>12</td></tr><tr><td>Colombia</td><td>finance</td><td>13</td></tr><tr><td>Comoros</td><td>education</td><td>8</td></tr><tr><td>Congo</td><td>art</td><td>10</td></tr><tr><td>Costa Rica</td><td>home-decor</td><td>5</td></tr><tr><td>Cote d'Ivoire</td><td>education</td><td>16</td></tr><tr><td>Croatia</td><td>finance</td><td>10</td></tr><tr><td>Cuba</td><td>mens-fashion</td><td>4</td></tr><tr><td>Cyprus</td><td>home-decor</td><td>2</td></tr><tr><td>Czech Republic</td><td>travel</td><td>4</td></tr><tr><td>Denmark</td><td>beauty</td><td>3</td></tr><tr><td>Djibouti</td><td>diy-and-crafts</td><td>14</td></tr><tr><td>Dominica</td><td>event-planning</td><td>4</td></tr><tr><td>Dominican Republic</td><td>travel</td><td>16</td></tr><tr><td>Ecuador</td><td>mens-fashion</td><td>10</td></tr><tr><td>Egypt</td><td>diy-and-crafts</td><td>10</td></tr><tr><td>El Salvador</td><td>event-planning</td><td>3</td></tr><tr><td>Equatorial Guinea</td><td>mens-fashion</td><td>4</td></tr><tr><td>Estonia</td><td>christmas</td><td>3</td></tr><tr><td>Ethiopia</td><td>tattoos</td><td>3</td></tr><tr><td>Faroe Islands</td><td>tattoos</td><td>8</td></tr><tr><td>Fiji</td><td>education</td><td>3</td></tr><tr><td>Finland</td><td>vehicles</td><td>12</td></tr><tr><td>France</td><td>beauty</td><td>6</td></tr><tr><td>French Guiana</td><td>quotes</td><td>14</td></tr><tr><td>French Polynesia</td><td>quotes</td><td>4</td></tr><tr><td>French Southern Territories</td><td>home-decor</td><td>10</td></tr><tr><td>Gabon</td><td>home-decor</td><td>5</td></tr><tr><td>Georgia</td><td>education</td><td>8</td></tr><tr><td>Germany</td><td>event-planning</td><td>8</td></tr><tr><td>Ghana</td><td>art</td><td>5</td></tr><tr><td>Gibraltar</td><td>art</td><td>10</td></tr><tr><td>Greece</td><td>art</td><td>5</td></tr><tr><td>Grenada</td><td>vehicles</td><td>12</td></tr><tr><td>Guadeloupe</td><td>home-decor</td><td>4</td></tr><tr><td>Guam</td><td>travel</td><td>8</td></tr><tr><td>Guatemala</td><td>art</td><td>10</td></tr><tr><td>Guinea</td><td>christmas</td><td>4</td></tr><tr><td>Guinea-Bissau</td><td>tattoos</td><td>8</td></tr><tr><td>Holy See (Vatican City State)</td><td>mens-fashion</td><td>2</td></tr><tr><td>Hungary</td><td>event-planning</td><td>3</td></tr><tr><td>India</td><td>travel</td><td>14</td></tr><tr><td>Indonesia</td><td>finance</td><td>5</td></tr><tr><td>Iran</td><td>tattoos</td><td>5</td></tr><tr><td>Ireland</td><td>home-decor</td><td>3</td></tr><tr><td>Isle of Man</td><td>art</td><td>24</td></tr><tr><td>Israel</td><td>quotes</td><td>14</td></tr><tr><td>Jamaica</td><td>vehicles</td><td>10</td></tr><tr><td>Japan</td><td>art</td><td>6</td></tr><tr><td>Kenya</td><td>diy-and-crafts</td><td>12</td></tr><tr><td>Kiribati</td><td>beauty</td><td>3</td></tr><tr><td>Korea</td><td>beauty</td><td>5</td></tr><tr><td>Kuwait</td><td>diy-and-crafts</td><td>10</td></tr><tr><td>Latvia</td><td>mens-fashion</td><td>10</td></tr><tr><td>Lesotho</td><td>art</td><td>8</td></tr><tr><td>Libyan Arab Jamahiriya</td><td>christmas</td><td>3</td></tr><tr><td>Liechtenstein</td><td>quotes</td><td>5</td></tr><tr><td>Lithuania</td><td>education</td><td>12</td></tr><tr><td>Luxembourg</td><td>education</td><td>3</td></tr><tr><td>Macao</td><td>vehicles</td><td>5</td></tr><tr><td>Macedonia</td><td>tattoos</td><td>2</td></tr><tr><td>Madagascar</td><td>event-planning</td><td>8</td></tr><tr><td>Malawi</td><td>travel</td><td>4</td></tr><tr><td>Maldives</td><td>finance</td><td>14</td></tr><tr><td>Mali</td><td>christmas</td><td>3</td></tr><tr><td>Malta</td><td>art</td><td>7</td></tr><tr><td>Marshall Islands</td><td>home-decor</td><td>6</td></tr><tr><td>Martinique</td><td>quotes</td><td>3</td></tr><tr><td>Mauritania</td><td>education</td><td>10</td></tr><tr><td>Mauritius</td><td>mens-fashion</td><td>3</td></tr><tr><td>Moldova</td><td>home-decor</td><td>3</td></tr><tr><td>Monaco</td><td>art</td><td>8</td></tr><tr><td>Montserrat</td><td>art</td><td>14</td></tr><tr><td>Morocco</td><td>quotes</td><td>5</td></tr><tr><td>Mozambique</td><td>home-decor</td><td>14</td></tr><tr><td>Namibia</td><td>vehicles</td><td>6</td></tr><tr><td>Nauru</td><td>travel</td><td>4</td></tr><tr><td>Netherlands</td><td>home-decor</td><td>4</td></tr><tr><td>Netherlands Antilles</td><td>art</td><td>10</td></tr><tr><td>New Caledonia</td><td>mens-fashion</td><td>10</td></tr><tr><td>New Zealand</td><td>tattoos</td><td>4</td></tr><tr><td>Nicaragua</td><td>vehicles</td><td>8</td></tr><tr><td>Niger</td><td>education</td><td>2</td></tr><tr><td>Nigeria</td><td>christmas</td><td>5</td></tr><tr><td>Niue</td><td>quotes</td><td>6</td></tr><tr><td>Norfolk Island</td><td>event-planning</td><td>2</td></tr><tr><td>Norway</td><td>travel</td><td>12</td></tr><tr><td>Panama</td><td>travel</td><td>15</td></tr><tr><td>Papua New Guinea</td><td>quotes</td><td>12</td></tr><tr><td>Paraguay</td><td>vehicles</td><td>6</td></tr><tr><td>Peru</td><td>vehicles</td><td>5</td></tr><tr><td>Philippines</td><td>event-planning</td><td>8</td></tr><tr><td>Pitcairn Islands</td><td>diy-and-crafts</td><td>10</td></tr><tr><td>Poland</td><td>event-planning</td><td>8</td></tr><tr><td>Portugal</td><td>diy-and-crafts</td><td>5</td></tr><tr><td>Puerto Rico</td><td>event-planning</td><td>5</td></tr><tr><td>Romania</td><td>tattoos</td><td>6</td></tr><tr><td>Saint Barthelemy</td><td>education</td><td>6</td></tr><tr><td>Saint Helena</td><td>beauty</td><td>4</td></tr><tr><td>Saint Kitts and Nevis</td><td>vehicles</td><td>10</td></tr><tr><td>Saint Martin</td><td>christmas</td><td>3</td></tr><tr><td>Saint Pierre and Miquelon</td><td>mens-fashion</td><td>11</td></tr><tr><td>Saint Vincent and the Grenadines</td><td>christmas</td><td>12</td></tr><tr><td>Samoa</td><td>vehicles</td><td>2</td></tr><tr><td>Sao Tome and Principe</td><td>finance</td><td>6</td></tr><tr><td>Saudi Arabia</td><td>finance</td><td>5</td></tr><tr><td>Serbia</td><td>travel</td><td>4</td></tr><tr><td>Seychelles</td><td>beauty</td><td>10</td></tr><tr><td>Singapore</td><td>vehicles</td><td>2</td></tr><tr><td>Slovakia (Slovak Republic)</td><td>vehicles</td><td>5</td></tr><tr><td>Slovenia</td><td>beauty</td><td>3</td></tr><tr><td>Solomon Islands</td><td>mens-fashion</td><td>3</td></tr><tr><td>Somalia</td><td>quotes</td><td>4</td></tr><tr><td>South Africa</td><td>vehicles</td><td>2</td></tr><tr><td>Sudan</td><td>mens-fashion</td><td>12</td></tr><tr><td>Svalbard & Jan Mayen Islands</td><td>travel</td><td>4</td></tr><tr><td>Swaziland</td><td>travel</td><td>3</td></tr><tr><td>Sweden</td><td>mens-fashion</td><td>4</td></tr><tr><td>Tanzania</td><td>art</td><td>6</td></tr><tr><td>Togo</td><td>christmas</td><td>12</td></tr><tr><td>Tonga</td><td>beauty</td><td>20</td></tr><tr><td>Trinidad and Tobago</td><td>christmas</td><td>12</td></tr><tr><td>Tunisia</td><td>diy-and-crafts</td><td>8</td></tr><tr><td>Turkey</td><td>education</td><td>8</td></tr><tr><td>Turkmenistan</td><td>travel</td><td>4</td></tr><tr><td>Tuvalu</td><td>tattoos</td><td>3</td></tr><tr><td>Uganda</td><td>christmas</td><td>5</td></tr><tr><td>Venezuela</td><td>diy-and-crafts</td><td>3</td></tr><tr><td>Vietnam</td><td>quotes</td><td>3</td></tr><tr><td>Wallis and Futuna</td><td>home-decor</td><td>3</td></tr></tbody></table></div>"
      ]
     },
     "metadata": {
      "application/vnd.databricks.v1+output": {
       "addedWidgets": {},
       "aggData": [],
       "aggError": "",
       "aggOverflow": false,
       "aggSchema": [],
       "aggSeriesLimitReached": false,
       "aggType": "",
       "arguments": {},
       "columnCustomDisplayInfos": {},
       "data": [
        [
         "Afghanistan",
         "education",
         34
        ],
        [
         "Albania",
         "beauty",
         31
        ],
        [
         "Algeria",
         "quotes",
         64
        ],
        [
         "American Samoa",
         "beauty",
         20
        ],
        [
         "Andorra",
         "tattoos",
         21
        ],
        [
         "Angola",
         "diy-and-crafts",
         18
        ],
        [
         "Anguilla",
         "diy-and-crafts",
         11
        ],
        [
         "Antarctica (the territory South of 60 deg S)",
         "finance",
         10
        ],
        [
         "Antigua and Barbuda",
         "christmas",
         26
        ],
        [
         "Argentina",
         "tattoos",
         22
        ],
        [
         "Armenia",
         "diy-and-crafts",
         22
        ],
        [
         "Aruba",
         "mens-fashion",
         34
        ],
        [
         "Australia",
         "mens-fashion",
         18
        ],
        [
         "Austria",
         "travel",
         24
        ],
        [
         "Azerbaijan",
         "event-planning",
         16
        ],
        [
         "Bahamas",
         "travel",
         6
        ],
        [
         "Bahrain",
         "travel",
         8
        ],
        [
         "Bangladesh",
         "art",
         22
        ],
        [
         "Barbados",
         "travel",
         14
        ],
        [
         "Belarus",
         "vehicles",
         5
        ],
        [
         "Belgium",
         "travel",
         5
        ],
        [
         "Belize",
         "mens-fashion",
         5
        ],
        [
         "Benin",
         "tattoos",
         6
        ],
        [
         "Bermuda",
         "christmas",
         10
        ],
        [
         "Bhutan",
         "diy-and-crafts",
         8
        ],
        [
         "Bolivia",
         "home-decor",
         7
        ],
        [
         "Bosnia and Herzegovina",
         "christmas",
         3
        ],
        [
         "Botswana",
         "tattoos",
         16
        ],
        [
         "Bouvet Island (Bouvetoya)",
         "christmas",
         7
        ],
        [
         "Brazil",
         "finance",
         5
        ],
        [
         "British Virgin Islands",
         "christmas",
         10
        ],
        [
         "Brunei Darussalam",
         "diy-and-crafts",
         3
        ],
        [
         "Bulgaria",
         "christmas",
         11
        ],
        [
         "Burkina Faso",
         "quotes",
         5
        ],
        [
         "Burundi",
         "mens-fashion",
         6
        ],
        [
         "Cambodia",
         "diy-and-crafts",
         14
        ],
        [
         "Cameroon",
         "christmas",
         4
        ],
        [
         "Canada",
         "christmas",
         10
        ],
        [
         "Cape Verde",
         "home-decor",
         10
        ],
        [
         "Cayman Islands",
         "travel",
         4
        ],
        [
         "Central African Republic",
         "christmas",
         8
        ],
        [
         "Chile",
         "quotes",
         10
        ],
        [
         "Christmas Island",
         "travel",
         12
        ],
        [
         "Cocos (Keeling) Islands",
         "vehicles",
         12
        ],
        [
         "Colombia",
         "finance",
         13
        ],
        [
         "Comoros",
         "education",
         8
        ],
        [
         "Congo",
         "art",
         10
        ],
        [
         "Costa Rica",
         "home-decor",
         5
        ],
        [
         "Cote d'Ivoire",
         "education",
         16
        ],
        [
         "Croatia",
         "finance",
         10
        ],
        [
         "Cuba",
         "mens-fashion",
         4
        ],
        [
         "Cyprus",
         "home-decor",
         2
        ],
        [
         "Czech Republic",
         "travel",
         4
        ],
        [
         "Denmark",
         "beauty",
         3
        ],
        [
         "Djibouti",
         "diy-and-crafts",
         14
        ],
        [
         "Dominica",
         "event-planning",
         4
        ],
        [
         "Dominican Republic",
         "travel",
         16
        ],
        [
         "Ecuador",
         "mens-fashion",
         10
        ],
        [
         "Egypt",
         "diy-and-crafts",
         10
        ],
        [
         "El Salvador",
         "event-planning",
         3
        ],
        [
         "Equatorial Guinea",
         "mens-fashion",
         4
        ],
        [
         "Estonia",
         "christmas",
         3
        ],
        [
         "Ethiopia",
         "tattoos",
         3
        ],
        [
         "Faroe Islands",
         "tattoos",
         8
        ],
        [
         "Fiji",
         "education",
         3
        ],
        [
         "Finland",
         "vehicles",
         12
        ],
        [
         "France",
         "beauty",
         6
        ],
        [
         "French Guiana",
         "quotes",
         14
        ],
        [
         "French Polynesia",
         "quotes",
         4
        ],
        [
         "French Southern Territories",
         "home-decor",
         10
        ],
        [
         "Gabon",
         "home-decor",
         5
        ],
        [
         "Georgia",
         "education",
         8
        ],
        [
         "Germany",
         "event-planning",
         8
        ],
        [
         "Ghana",
         "art",
         5
        ],
        [
         "Gibraltar",
         "art",
         10
        ],
        [
         "Greece",
         "art",
         5
        ],
        [
         "Grenada",
         "vehicles",
         12
        ],
        [
         "Guadeloupe",
         "home-decor",
         4
        ],
        [
         "Guam",
         "travel",
         8
        ],
        [
         "Guatemala",
         "art",
         10
        ],
        [
         "Guinea",
         "christmas",
         4
        ],
        [
         "Guinea-Bissau",
         "tattoos",
         8
        ],
        [
         "Holy See (Vatican City State)",
         "mens-fashion",
         2
        ],
        [
         "Hungary",
         "event-planning",
         3
        ],
        [
         "India",
         "travel",
         14
        ],
        [
         "Indonesia",
         "finance",
         5
        ],
        [
         "Iran",
         "tattoos",
         5
        ],
        [
         "Ireland",
         "home-decor",
         3
        ],
        [
         "Isle of Man",
         "art",
         24
        ],
        [
         "Israel",
         "quotes",
         14
        ],
        [
         "Jamaica",
         "vehicles",
         10
        ],
        [
         "Japan",
         "art",
         6
        ],
        [
         "Kenya",
         "diy-and-crafts",
         12
        ],
        [
         "Kiribati",
         "beauty",
         3
        ],
        [
         "Korea",
         "beauty",
         5
        ],
        [
         "Kuwait",
         "diy-and-crafts",
         10
        ],
        [
         "Latvia",
         "mens-fashion",
         10
        ],
        [
         "Lesotho",
         "art",
         8
        ],
        [
         "Libyan Arab Jamahiriya",
         "christmas",
         3
        ],
        [
         "Liechtenstein",
         "quotes",
         5
        ],
        [
         "Lithuania",
         "education",
         12
        ],
        [
         "Luxembourg",
         "education",
         3
        ],
        [
         "Macao",
         "vehicles",
         5
        ],
        [
         "Macedonia",
         "tattoos",
         2
        ],
        [
         "Madagascar",
         "event-planning",
         8
        ],
        [
         "Malawi",
         "travel",
         4
        ],
        [
         "Maldives",
         "finance",
         14
        ],
        [
         "Mali",
         "christmas",
         3
        ],
        [
         "Malta",
         "art",
         7
        ],
        [
         "Marshall Islands",
         "home-decor",
         6
        ],
        [
         "Martinique",
         "quotes",
         3
        ],
        [
         "Mauritania",
         "education",
         10
        ],
        [
         "Mauritius",
         "mens-fashion",
         3
        ],
        [
         "Moldova",
         "home-decor",
         3
        ],
        [
         "Monaco",
         "art",
         8
        ],
        [
         "Montserrat",
         "art",
         14
        ],
        [
         "Morocco",
         "quotes",
         5
        ],
        [
         "Mozambique",
         "home-decor",
         14
        ],
        [
         "Namibia",
         "vehicles",
         6
        ],
        [
         "Nauru",
         "travel",
         4
        ],
        [
         "Netherlands",
         "home-decor",
         4
        ],
        [
         "Netherlands Antilles",
         "art",
         10
        ],
        [
         "New Caledonia",
         "mens-fashion",
         10
        ],
        [
         "New Zealand",
         "tattoos",
         4
        ],
        [
         "Nicaragua",
         "vehicles",
         8
        ],
        [
         "Niger",
         "education",
         2
        ],
        [
         "Nigeria",
         "christmas",
         5
        ],
        [
         "Niue",
         "quotes",
         6
        ],
        [
         "Norfolk Island",
         "event-planning",
         2
        ],
        [
         "Norway",
         "travel",
         12
        ],
        [
         "Panama",
         "travel",
         15
        ],
        [
         "Papua New Guinea",
         "quotes",
         12
        ],
        [
         "Paraguay",
         "vehicles",
         6
        ],
        [
         "Peru",
         "vehicles",
         5
        ],
        [
         "Philippines",
         "event-planning",
         8
        ],
        [
         "Pitcairn Islands",
         "diy-and-crafts",
         10
        ],
        [
         "Poland",
         "event-planning",
         8
        ],
        [
         "Portugal",
         "diy-and-crafts",
         5
        ],
        [
         "Puerto Rico",
         "event-planning",
         5
        ],
        [
         "Romania",
         "tattoos",
         6
        ],
        [
         "Saint Barthelemy",
         "education",
         6
        ],
        [
         "Saint Helena",
         "beauty",
         4
        ],
        [
         "Saint Kitts and Nevis",
         "vehicles",
         10
        ],
        [
         "Saint Martin",
         "christmas",
         3
        ],
        [
         "Saint Pierre and Miquelon",
         "mens-fashion",
         11
        ],
        [
         "Saint Vincent and the Grenadines",
         "christmas",
         12
        ],
        [
         "Samoa",
         "vehicles",
         2
        ],
        [
         "Sao Tome and Principe",
         "finance",
         6
        ],
        [
         "Saudi Arabia",
         "finance",
         5
        ],
        [
         "Serbia",
         "travel",
         4
        ],
        [
         "Seychelles",
         "beauty",
         10
        ],
        [
         "Singapore",
         "vehicles",
         2
        ],
        [
         "Slovakia (Slovak Republic)",
         "vehicles",
         5
        ],
        [
         "Slovenia",
         "beauty",
         3
        ],
        [
         "Solomon Islands",
         "mens-fashion",
         3
        ],
        [
         "Somalia",
         "quotes",
         4
        ],
        [
         "South Africa",
         "vehicles",
         2
        ],
        [
         "Sudan",
         "mens-fashion",
         12
        ],
        [
         "Svalbard & Jan Mayen Islands",
         "travel",
         4
        ],
        [
         "Swaziland",
         "travel",
         3
        ],
        [
         "Sweden",
         "mens-fashion",
         4
        ],
        [
         "Tanzania",
         "art",
         6
        ],
        [
         "Togo",
         "christmas",
         12
        ],
        [
         "Tonga",
         "beauty",
         20
        ],
        [
         "Trinidad and Tobago",
         "christmas",
         12
        ],
        [
         "Tunisia",
         "diy-and-crafts",
         8
        ],
        [
         "Turkey",
         "education",
         8
        ],
        [
         "Turkmenistan",
         "travel",
         4
        ],
        [
         "Tuvalu",
         "tattoos",
         3
        ],
        [
         "Uganda",
         "christmas",
         5
        ],
        [
         "Venezuela",
         "diy-and-crafts",
         3
        ],
        [
         "Vietnam",
         "quotes",
         3
        ],
        [
         "Wallis and Futuna",
         "home-decor",
         3
        ]
       ],
       "datasetInfos": [],
       "dbfsResultPath": null,
       "isJsonSchema": true,
       "metadata": {},
       "overflow": false,
       "plotOptions": {
        "customPlotOptions": {},
        "displayType": "table",
        "pivotAggregation": null,
        "pivotColumns": null,
        "xColumns": null,
        "yColumns": null
       },
       "removedWidgets": [],
       "schema": [
        {
         "metadata": "{}",
         "name": "country",
         "type": "\"string\""
        },
        {
         "metadata": "{}",
         "name": "category",
         "type": "\"string\""
        },
        {
         "metadata": "{}",
         "name": "category_count",
         "type": "\"long\""
        }
       ],
       "type": "table"
      }
     },
     "output_type": "display_data"
    }
   ],
   "source": [
    "popular_categories_df = spark.sql(\"\"\"\n",
    "    WITH CategoryCounts AS (\n",
    "        SELECT \n",
    "            df_pin.category as category,\n",
    "            COUNT(df_pin.category) as category_count,\n",
    "            df_geo.country as country,\n",
    "            ROW_NUMBER() OVER(PARTITION BY df_geo.country ORDER BY COUNT(df_pin.category) DESC) as row_num\n",
    "        FROM \n",
    "            df_pin\n",
    "        JOIN\n",
    "            df_geo\n",
    "        ON  \n",
    "            df_geo.ind = df_pin.ind\n",
    "        GROUP BY \n",
    "            df_geo.country, df_pin.category\n",
    "    )\n",
    "    SELECT \n",
    "        country,\n",
    "        category,\n",
    "        category_count\n",
    "    FROM \n",
    "        CategoryCounts\n",
    "    WHERE \n",
    "        row_num = 1\n",
    "\"\"\")\n",
    "display(popular_categories_df)\n"
   ]
  },
  {
   "cell_type": "code",
   "execution_count": 0,
   "metadata": {
    "application/vnd.databricks.v1+cell": {
     "cellMetadata": {
      "byteLimit": 2048000,
      "rowLimit": 10000
     },
     "inputWidgets": {},
     "nuid": "34e2c22d-815f-40c1-8778-b08a92e95c01",
     "showTitle": false,
     "title": ""
    },
    "jupyter": {
     "outputs_hidden": true,
     "source_hidden": true
    }
   },
   "outputs": [
    {
     "output_type": "display_data",
     "data": {
      "text/html": [
       "<style scoped>\n",
       "  .table-result-container {\n",
       "    max-height: 300px;\n",
       "    overflow: auto;\n",
       "  }\n",
       "  table, th, td {\n",
       "    border: 1px solid black;\n",
       "    border-collapse: collapse;\n",
       "  }\n",
       "  th, td {\n",
       "    padding: 5px;\n",
       "  }\n",
       "  th {\n",
       "    text-align: left;\n",
       "  }\n",
       "</style><div class='table-result-container'><table class='table-result'><thead style='background-color: white'><tr><th>post_year</th><th>category</th><th>category_count</th></tr></thead><tbody><tr><td>2018</td><td>art</td><td>89</td></tr><tr><td>2018</td><td>travel</td><td>60</td></tr><tr><td>2018</td><td>education</td><td>60</td></tr><tr><td>2018</td><td>diy-and-crafts</td><td>59</td></tr><tr><td>2018</td><td>quotes</td><td>58</td></tr><tr><td>2018</td><td>beauty</td><td>52</td></tr><tr><td>2018</td><td>vehicles</td><td>44</td></tr><tr><td>2018</td><td>christmas</td><td>40</td></tr><tr><td>2018</td><td>mens-fashion</td><td>35</td></tr><tr><td>2018</td><td>tattoos</td><td>26</td></tr><tr><td>2018</td><td>home-decor</td><td>18</td></tr><tr><td>2018</td><td>finance</td><td>11</td></tr><tr><td>2018</td><td>event-planning</td><td>8</td></tr><tr><td>2019</td><td>travel</td><td>83</td></tr><tr><td>2019</td><td>diy-and-crafts</td><td>82</td></tr><tr><td>2019</td><td>art</td><td>55</td></tr><tr><td>2019</td><td>education</td><td>55</td></tr><tr><td>2019</td><td>home-decor</td><td>48</td></tr><tr><td>2019</td><td>mens-fashion</td><td>41</td></tr><tr><td>2019</td><td>event-planning</td><td>40</td></tr><tr><td>2019</td><td>finance</td><td>33</td></tr><tr><td>2019</td><td>christmas</td><td>30</td></tr><tr><td>2019</td><td>vehicles</td><td>26</td></tr><tr><td>2019</td><td>quotes</td><td>25</td></tr><tr><td>2019</td><td>beauty</td><td>18</td></tr><tr><td>2019</td><td>tattoos</td><td>12</td></tr><tr><td>2020</td><td>art</td><td>69</td></tr><tr><td>2020</td><td>finance</td><td>63</td></tr><tr><td>2020</td><td>travel</td><td>58</td></tr><tr><td>2020</td><td>christmas</td><td>51</td></tr><tr><td>2020</td><td>mens-fashion</td><td>44</td></tr><tr><td>2020</td><td>home-decor</td><td>43</td></tr><tr><td>2020</td><td>tattoos</td><td>37</td></tr><tr><td>2020</td><td>beauty</td><td>37</td></tr><tr><td>2020</td><td>event-planning</td><td>32</td></tr><tr><td>2020</td><td>vehicles</td><td>30</td></tr><tr><td>2020</td><td>diy-and-crafts</td><td>23</td></tr><tr><td>2020</td><td>quotes</td><td>21</td></tr><tr><td>2020</td><td>education</td><td>7</td></tr><tr><td>2021</td><td>tattoos</td><td>71</td></tr><tr><td>2021</td><td>quotes</td><td>54</td></tr><tr><td>2021</td><td>finance</td><td>42</td></tr><tr><td>2021</td><td>vehicles</td><td>42</td></tr><tr><td>2021</td><td>diy-and-crafts</td><td>39</td></tr><tr><td>2021</td><td>mens-fashion</td><td>35</td></tr><tr><td>2021</td><td>education</td><td>34</td></tr><tr><td>2021</td><td>art</td><td>33</td></tr><tr><td>2021</td><td>event-planning</td><td>32</td></tr><tr><td>2021</td><td>travel</td><td>28</td></tr><tr><td>2021</td><td>christmas</td><td>25</td></tr><tr><td>2021</td><td>home-decor</td><td>16</td></tr><tr><td>2021</td><td>beauty</td><td>15</td></tr><tr><td>2022</td><td>beauty</td><td>80</td></tr><tr><td>2022</td><td>christmas</td><td>71</td></tr><tr><td>2022</td><td>quotes</td><td>55</td></tr><tr><td>2022</td><td>diy-and-crafts</td><td>42</td></tr><tr><td>2022</td><td>tattoos</td><td>36</td></tr><tr><td>2022</td><td>mens-fashion</td><td>33</td></tr><tr><td>2022</td><td>art</td><td>28</td></tr><tr><td>2022</td><td>travel</td><td>23</td></tr><tr><td>2022</td><td>home-decor</td><td>20</td></tr><tr><td>2022</td><td>vehicles</td><td>19</td></tr><tr><td>2022</td><td>finance</td><td>19</td></tr><tr><td>2022</td><td>education</td><td>13</td></tr><tr><td>2022</td><td>event-planning</td><td>6</td></tr></tbody></table></div>"
      ]
     },
     "metadata": {
      "application/vnd.databricks.v1+output": {
       "addedWidgets": {},
       "aggData": [],
       "aggError": "",
       "aggOverflow": false,
       "aggSchema": [],
       "aggSeriesLimitReached": false,
       "aggType": "",
       "arguments": {},
       "columnCustomDisplayInfos": {},
       "data": [
        [
         2018,
         "art",
         89
        ],
        [
         2018,
         "travel",
         60
        ],
        [
         2018,
         "education",
         60
        ],
        [
         2018,
         "diy-and-crafts",
         59
        ],
        [
         2018,
         "quotes",
         58
        ],
        [
         2018,
         "beauty",
         52
        ],
        [
         2018,
         "vehicles",
         44
        ],
        [
         2018,
         "christmas",
         40
        ],
        [
         2018,
         "mens-fashion",
         35
        ],
        [
         2018,
         "tattoos",
         26
        ],
        [
         2018,
         "home-decor",
         18
        ],
        [
         2018,
         "finance",
         11
        ],
        [
         2018,
         "event-planning",
         8
        ],
        [
         2019,
         "travel",
         83
        ],
        [
         2019,
         "diy-and-crafts",
         82
        ],
        [
         2019,
         "art",
         55
        ],
        [
         2019,
         "education",
         55
        ],
        [
         2019,
         "home-decor",
         48
        ],
        [
         2019,
         "mens-fashion",
         41
        ],
        [
         2019,
         "event-planning",
         40
        ],
        [
         2019,
         "finance",
         33
        ],
        [
         2019,
         "christmas",
         30
        ],
        [
         2019,
         "vehicles",
         26
        ],
        [
         2019,
         "quotes",
         25
        ],
        [
         2019,
         "beauty",
         18
        ],
        [
         2019,
         "tattoos",
         12
        ],
        [
         2020,
         "art",
         69
        ],
        [
         2020,
         "finance",
         63
        ],
        [
         2020,
         "travel",
         58
        ],
        [
         2020,
         "christmas",
         51
        ],
        [
         2020,
         "mens-fashion",
         44
        ],
        [
         2020,
         "home-decor",
         43
        ],
        [
         2020,
         "tattoos",
         37
        ],
        [
         2020,
         "beauty",
         37
        ],
        [
         2020,
         "event-planning",
         32
        ],
        [
         2020,
         "vehicles",
         30
        ],
        [
         2020,
         "diy-and-crafts",
         23
        ],
        [
         2020,
         "quotes",
         21
        ],
        [
         2020,
         "education",
         7
        ],
        [
         2021,
         "tattoos",
         71
        ],
        [
         2021,
         "quotes",
         54
        ],
        [
         2021,
         "finance",
         42
        ],
        [
         2021,
         "vehicles",
         42
        ],
        [
         2021,
         "diy-and-crafts",
         39
        ],
        [
         2021,
         "mens-fashion",
         35
        ],
        [
         2021,
         "education",
         34
        ],
        [
         2021,
         "art",
         33
        ],
        [
         2021,
         "event-planning",
         32
        ],
        [
         2021,
         "travel",
         28
        ],
        [
         2021,
         "christmas",
         25
        ],
        [
         2021,
         "home-decor",
         16
        ],
        [
         2021,
         "beauty",
         15
        ],
        [
         2022,
         "beauty",
         80
        ],
        [
         2022,
         "christmas",
         71
        ],
        [
         2022,
         "quotes",
         55
        ],
        [
         2022,
         "diy-and-crafts",
         42
        ],
        [
         2022,
         "tattoos",
         36
        ],
        [
         2022,
         "mens-fashion",
         33
        ],
        [
         2022,
         "art",
         28
        ],
        [
         2022,
         "travel",
         23
        ],
        [
         2022,
         "home-decor",
         20
        ],
        [
         2022,
         "vehicles",
         19
        ],
        [
         2022,
         "finance",
         19
        ],
        [
         2022,
         "education",
         13
        ],
        [
         2022,
         "event-planning",
         6
        ]
       ],
       "datasetInfos": [],
       "dbfsResultPath": null,
       "isJsonSchema": true,
       "metadata": {},
       "overflow": false,
       "plotOptions": {
        "customPlotOptions": {},
        "displayType": "table",
        "pivotAggregation": null,
        "pivotColumns": null,
        "xColumns": null,
        "yColumns": null
       },
       "removedWidgets": [],
       "schema": [
        {
         "metadata": "{}",
         "name": "post_year",
         "type": "\"integer\""
        },
        {
         "metadata": "{}",
         "name": "category",
         "type": "\"string\""
        },
        {
         "metadata": "{}",
         "name": "category_count",
         "type": "\"long\""
        }
       ],
       "type": "table"
      }
     },
     "output_type": "display_data"
    }
   ],
   "source": [
    "posts_per_category_2018_2022 = spark.sql(\"\"\"\n",
    "    SELECT\n",
    "        YEAR(geo.timestamp) as post_year,\n",
    "        pin.category as category,\n",
    "        COUNT(pin.category) as category_count\n",
    "    FROM \n",
    "        df_pin pin\n",
    "    JOIN\n",
    "        df_geo geo\n",
    "    ON\n",
    "        geo.ind = pin.ind\n",
    "    WHERE\n",
    "        YEAR(geo.timestamp) BETWEEN 2018 AND 2022\n",
    "    GROUP BY\n",
    "        YEAR(geo.timestamp), pin.category\n",
    "    ORDER BY\n",
    "        post_year, category_count DESC\n",
    "\"\"\")\n",
    "\n",
    "display(posts_per_category_2018_2022)\n"
   ]
  },
  {
   "cell_type": "code",
   "execution_count": 0,
   "metadata": {
    "application/vnd.databricks.v1+cell": {
     "cellMetadata": {
      "byteLimit": 2048000,
      "rowLimit": 10000
     },
     "inputWidgets": {},
     "nuid": "a668548f-6b58-459a-8d06-1fe120dde758",
     "showTitle": false,
     "title": ""
    }
   },
   "outputs": [
    {
     "output_type": "display_data",
     "data": {
      "text/html": [
       "<style scoped>\n",
       "  .table-result-container {\n",
       "    max-height: 300px;\n",
       "    overflow: auto;\n",
       "  }\n",
       "  table, th, td {\n",
       "    border: 1px solid black;\n",
       "    border-collapse: collapse;\n",
       "  }\n",
       "  th, td {\n",
       "    padding: 5px;\n",
       "  }\n",
       "  th {\n",
       "    text-align: left;\n",
       "  }\n",
       "</style><div class='table-result-container'><table class='table-result'><thead style='background-color: white'><tr><th>country</th><th>poster_name</th><th>follower_count</th></tr></thead><tbody><tr><td>Afghanistan</td><td>9GAG</td><td>3000000</td></tr><tr><td>Albania</td><td>The Minds Journal</td><td>5000000</td></tr><tr><td>Algeria</td><td>YourTango</td><td>942000</td></tr><tr><td>American Samoa</td><td>Mamas Uncut</td><td>8000000</td></tr><tr><td>Andorra</td><td>Teachers Pay Teachers</td><td>1000000</td></tr><tr><td>Angola</td><td>Tastemade</td><td>8000000</td></tr><tr><td>Anguilla</td><td>Kristen | Lifestyle, Mom Tips & Teacher Stuff Blog</td><td>92000</td></tr><tr><td>Antarctica (the territory South of 60 deg S)</td><td>Refinery29</td><td>1000000</td></tr><tr><td>Antigua and Barbuda</td><td>Country Living Magazine</td><td>1000000</td></tr><tr><td>Argentina</td><td>Next Luxury</td><td>800000</td></tr><tr><td>Armenia</td><td>Michelle {CraftyMorning.com}</td><td>892000</td></tr><tr><td>Aruba</td><td>GQ Magazine</td><td>874000</td></tr><tr><td>Australia</td><td>Cultura Colectiva</td><td>1000000</td></tr><tr><td>Austria</td><td>Totschooling | Toddler & Preschool Printable Activities</td><td>161000</td></tr><tr><td>Azerbaijan</td><td>Style Me Pretty</td><td>6000000</td></tr><tr><td>Bahamas</td><td>The Kitchen Table Classroom</td><td>221000</td></tr><tr><td>Bahrain</td><td>R.J. Weiss at The Ways To Wealth | Personal Finance | Debt Payoff</td><td>46000</td></tr><tr><td>Bangladesh</td><td>Better Homes and Gardens</td><td>4000000</td></tr><tr><td>Barbados</td><td>The Creativity Exchange</td><td>410000</td></tr><tr><td>Belarus</td><td>Ricky Lee</td><td>709</td></tr><tr><td>Belgium</td><td>Happy Toddler Playtime</td><td>73000</td></tr><tr><td>Belize</td><td>Clary | IKEA hacks & DIY Project for home</td><td>67000</td></tr><tr><td>Benin</td><td>Smart Cents Mom</td><td>49000</td></tr><tr><td>Bermuda</td><td>Life on Summerhill | Home, Holiday Decor & DIY Website</td><td>46000</td></tr><tr><td>Bhutan</td><td>Kids Crafts & Free Preschool Printables- Sharing Our Experiences</td><td>3000</td></tr><tr><td>Bolivia</td><td>Kimberly West (a girl and a glue gun)</td><td>243000</td></tr><tr><td>Bosnia and Herzegovina</td><td>A Wonderful Thought</td><td>37000</td></tr><tr><td>Botswana</td><td>OkChicas</td><td>3000000</td></tr><tr><td>Bouvet Island (Bouvetoya)</td><td>POPSUGAR</td><td>5000000</td></tr><tr><td>Brazil</td><td>Budget with Rachel</td><td>11000</td></tr><tr><td>British Virgin Islands</td><td>Kitchen Fun With My 3 Sons</td><td>245000</td></tr><tr><td>Brunei Darussalam</td><td>Kids Craft Room</td><td>277000</td></tr><tr><td>Bulgaria</td><td>Half Baked Harvest</td><td>912000</td></tr><tr><td>Burkina Faso</td><td>Behance</td><td>6000000</td></tr><tr><td>Burundi</td><td>Macho Moda</td><td>620000</td></tr><tr><td>Cambodia</td><td>Mixed Media Crafts</td><td>6000</td></tr><tr><td>Cameroon</td><td>Made to be a Momma</td><td>85000</td></tr><tr><td>Canada</td><td>Twelve On Main</td><td>142000</td></tr><tr><td>Cape Verde</td><td>Sand and Sisal</td><td>178000</td></tr><tr><td>Cayman Islands</td><td>Our Escape Clause l Travel in Europe & Beyond</td><td>15000</td></tr><tr><td>Central African Republic</td><td>PureWow</td><td>868000</td></tr><tr><td>Chile</td><td>Amber Strong - The Maker’s Map | DIY’s, Crafts & Home Decor</td><td>19000</td></tr><tr><td>Christmas Island</td><td>Instructables</td><td>3000000</td></tr><tr><td>Cocos (Keeling) Islands</td><td>The World Was Here First</td><td>5000</td></tr><tr><td>Colombia</td><td>Jordan Page | Fun Cheap or Free</td><td>152000</td></tr><tr><td>Comoros</td><td>Becky Mansfield - YourModernFamily </td><td>196000</td></tr><tr><td>Congo</td><td>The Cards We Drew</td><td>64000</td></tr><tr><td>Costa Rica</td><td>Martha Stewart Living</td><td>2000000</td></tr><tr><td>Cote d'Ivoire</td><td>The Crafting Chicks</td><td>192000</td></tr><tr><td>Croatia</td><td>Live Like You Are Rich | Finances, Pregnancy, Recipes & More</td><td>134000</td></tr><tr><td>Cuba</td><td>Decluttering Your Life</td><td>102000</td></tr><tr><td>Cyprus</td><td>Lantern Lane Designs|Home Decor|DIY Projects|DIY Home Decor</td><td>25000</td></tr><tr><td>Czech Republic</td><td>Tatertots and Jello .com</td><td>398000</td></tr><tr><td>Denmark</td><td>A Life Adjacent</td><td>36000</td></tr><tr><td>Djibouti</td><td>Katepickle - picklebums - fun ideas for families</td><td>130000</td></tr><tr><td>Dominica</td><td>Monique - Living Life and Learning</td><td>67000</td></tr><tr><td>Dominican Republic</td><td>Wonder Forest</td><td>104000</td></tr><tr><td>Ecuador</td><td>LABONNI</td><td>84000</td></tr><tr><td>Egypt</td><td>Lists For All</td><td>11000</td></tr><tr><td>El Salvador</td><td>Power of Positivity</td><td>221000</td></tr><tr><td>Equatorial Guinea</td><td>Whisper Wanderlust * Travel Blog</td><td>10000</td></tr><tr><td>Estonia</td><td>Decorator's Warehouse</td><td>6000</td></tr><tr><td>Ethiopia</td><td>Sarah Wahl | Crestfox</td><td>17000</td></tr><tr><td>Faroe Islands</td><td>Veterans United Home Loans</td><td>11000</td></tr><tr><td>Fiji</td><td>Teach Create Motivate</td><td>41000</td></tr><tr><td>Finland</td><td>Amee</td><td>79000</td></tr><tr><td>France</td><td>Hey Pretty Beauty Blog</td><td>7000</td></tr><tr><td>French Guiana</td><td>Sweet Red Poppy Free Sewing Patterns, Cut Files & Craft Tutorials</td><td>241000</td></tr><tr><td>French Polynesia</td><td>Alexandra Polunin</td><td>16000</td></tr><tr><td>French Southern Territories</td><td>Salvaged Living</td><td>40000</td></tr><tr><td>Gabon</td><td>Expatolife</td><td>7000</td></tr><tr><td>Georgia</td><td>Susie Allison | Busy Toddler</td><td>203000</td></tr><tr><td>Germany</td><td>Middle Class Dad</td><td>10000</td></tr><tr><td>Ghana</td><td>jennifer</td><td>191</td></tr><tr><td>Gibraltar</td><td>TheSuperBOO!</td><td>89000</td></tr><tr><td>Greece</td><td>Thirty Handmade Days</td><td>397000</td></tr><tr><td>Grenada</td><td>Young Adult Money</td><td>9000</td></tr><tr><td>Guadeloupe</td><td>Mommyhooding</td><td>13000</td></tr><tr><td>Guam</td><td>Amanda Green Bottoms @ kevinandamanda.com</td><td>219000</td></tr><tr><td>Guatemala</td><td>Menucha - Moms and Crafters</td><td>85000</td></tr><tr><td>Guinea</td><td>Pam from Over the Big Moon</td><td>79000</td></tr><tr><td>Guinea-Bissau</td><td>The Inspiration Edit - Best Instant Pot Recipes And Kids Crafts</td><td>56000</td></tr><tr><td>Holy See (Vatican City State)</td><td>Mich Cam</td><td>831</td></tr><tr><td>Hungary</td><td>BalsaCircle</td><td>2000</td></tr><tr><td>India</td><td>Happiness is Homemade | Crafts, Printables, Party Ideas, & More!</td><td>167000</td></tr><tr><td>Indonesia</td><td>Lifehacker</td><td>141000</td></tr><tr><td>Iran</td><td>Mandy Yancer</td><td>150</td></tr><tr><td>Ireland</td><td>Seeking Lavender Lane</td><td>49000</td></tr><tr><td>Isle of Man</td><td>Abbotts At Home</td><td>52000</td></tr><tr><td>Israel</td><td>LISA MASLYK / VOICE OVER TALENT /ACTOR</td><td>3000</td></tr><tr><td>Jamaica</td><td>Financial Toolkit</td><td>19000</td></tr><tr><td>Japan</td><td>Eyes On Walls</td><td>17000</td></tr><tr><td>Kenya</td><td>Laura- Inspire My Play | Play & Learning For Little Kids</td><td>4000</td></tr><tr><td>Kiribati</td><td>𝒍𝒖𝒄𝒉𝒊𝒊 ♡︎ </td><td>8</td></tr><tr><td>Korea</td><td>Latest Hairstyles</td><td>627000</td></tr><tr><td>Kuwait</td><td>JDaniel4's Mom</td><td>63000</td></tr><tr><td>Latvia</td><td>Royal Fashionist</td><td>188000</td></tr><tr><td>Lesotho</td><td>The Guardian</td><td>908000</td></tr><tr><td>Libyan Arab Jamahiriya</td><td>miss coco</td><td>157000</td></tr><tr><td>Liechtenstein</td><td>Sophie's Way</td><td>10000</td></tr><tr><td>Lithuania</td><td>The Bespoke ELA Classroom</td><td>10000</td></tr><tr><td>Luxembourg</td><td>Linda Kamp-Around The Kampfire</td><td>35000</td></tr><tr><td>Macao</td><td>Vanessa Ferran</td><td>3000</td></tr><tr><td>Macedonia</td><td>Mary</td><td>7000</td></tr><tr><td>Madagascar</td><td>MomAdvice</td><td>112000</td></tr><tr><td>Malawi</td><td>Avenly Lane | Beauty, Fashion & Travel Inspiration</td><td>14000</td></tr><tr><td>Maldives</td><td>Parents</td><td>416000</td></tr><tr><td>Mali</td><td>Mobile Home Living®</td><td>122000</td></tr><tr><td>Malta</td><td>Luis Alberto Martinez</td><td>13</td></tr><tr><td>Marshall Islands</td><td>Dashing Darlin' </td><td>13000</td></tr><tr><td>Martinique</td><td>Heart Handmade UK | Craft Room Ideas, Craft Ideas For Adults</td><td>1000000</td></tr><tr><td>Mauritania</td><td>The Literacy Nest</td><td>22000</td></tr><tr><td>Mauritius</td><td>Cool Things- Drawing Ideas , Fashion ,Beautiy and Home Decor</td><td>46000</td></tr><tr><td>Moldova</td><td>A Blossoming Life DIY Projects + Recipes +     Natural Living</td><td>44000</td></tr><tr><td>Monaco</td><td>Artists Network</td><td>227000</td></tr><tr><td>Montserrat</td><td>Taming Little Monsters - Fun Activities for Kids</td><td>4000</td></tr><tr><td>Morocco</td><td>Two Southern Sweeties | Life After 50 + Second Act Lifestyle</td><td>13000</td></tr><tr><td>Mozambique</td><td>Stylin by Aylin</td><td>83000</td></tr><tr><td>Namibia</td><td>Snappy Gourmet</td><td>168000</td></tr><tr><td>Nauru</td><td>The Intrepid Guide | Language Learning for Travel</td><td>45000</td></tr><tr><td>Netherlands</td><td>PUFIK Interiors & Inspirations</td><td>136000</td></tr><tr><td>Netherlands Antilles</td><td>Kim Cook-Thirteen Chairs-Slates Mugs And Tees</td><td>7000</td></tr><tr><td>New Caledonia</td><td>Au'vey Smith</td><td>377</td></tr><tr><td>New Zealand</td><td>ZENIDEES</td><td>19000</td></tr><tr><td>Nicaragua</td><td>Land Rover USA</td><td>9000</td></tr><tr><td>Niger</td><td>The Edvocate</td><td>4000</td></tr><tr><td>Nigeria</td><td>eyelashdance</td><td>164</td></tr><tr><td>Niue</td><td>Michelle | Brown Eyed Baker</td><td>271000</td></tr><tr><td>Norfolk Island</td><td>Lifestyle DIYW \"Live Life & Do IT Your Way\"</td><td>6000</td></tr><tr><td>Norway</td><td>DailyDose</td><td>189</td></tr><tr><td>Panama</td><td>Alanna | Periodic Adventures</td><td>1000</td></tr><tr><td>Papua New Guinea</td><td>AnnaLee Kick</td><td>112</td></tr><tr><td>Paraguay</td><td>Michal McCamman</td><td>392</td></tr><tr><td>Peru</td><td>Clar</td><td>21</td></tr><tr><td>Philippines</td><td>Life of Neon | Custom Neon Light Signs | Home Decor Wall Art</td><td>111</td></tr><tr><td>Pitcairn Islands</td><td>Marla Meridith</td><td>671000</td></tr><tr><td>Poland</td><td>BEIMER</td><td>265</td></tr><tr><td>Portugal</td><td>Lindsey Blogs</td><td>29000</td></tr><tr><td>Puerto Rico</td><td>Book More Brides</td><td>1000</td></tr><tr><td>Romania</td><td>Soberbadassery | Your Free Online Guide To Sober Living </td><td>9000</td></tr><tr><td>Saint Barthelemy</td><td>Alexandria Franko</td><td>517</td></tr><tr><td>Saint Helena</td><td>The Pamper Place</td><td>328</td></tr><tr><td>Saint Kitts and Nevis</td><td>vintagetopia</td><td>171000</td></tr><tr><td>Saint Martin</td><td>Montgo Farmhouse</td><td>9000</td></tr><tr><td>Saint Pierre and Miquelon</td><td>Ebbert Barnes</td><td>323</td></tr><tr><td>Saint Vincent and the Grenadines</td><td>Home Etc</td><td>13</td></tr><tr><td>Samoa</td><td>Desiree Weitzenhoffer</td><td>196</td></tr><tr><td>Sao Tome and Principe</td><td>kayyla.april</td><td>2000</td></tr><tr><td>Saudi Arabia</td><td>Edwin | Cash The Checks | Find Your Perfect Side Hustle</td><td>223</td></tr><tr><td>Serbia</td><td>VEM Designs</td><td>78</td></tr><tr><td>Seychelles</td><td>ALL FOR WOMAN</td><td>21000</td></tr><tr><td>Singapore</td><td>Lionel Leon</td><td>387</td></tr><tr><td>Slovakia (Slovak Republic)</td><td>CollectorCarAds.com</td><td>11000</td></tr><tr><td>Slovenia</td><td>Vsnicholls</td><td>746</td></tr><tr><td>Solomon Islands</td><td>Upcyclist</td><td>7000</td></tr><tr><td>Somalia</td><td>PutTheKettleOn | Self Care & Personal Growth For a Life You Love</td><td>27000</td></tr><tr><td>South Africa</td><td>Sophie Watters</td><td>3000</td></tr><tr><td>Sudan</td><td>iElylike ..✿◕‿◕✿ஐ✿◕‿◕✿</td><td>940</td></tr><tr><td>Svalbard & Jan Mayen Islands</td><td>CK Travels (Travel Bloggers)</td><td>5000</td></tr><tr><td>Swaziland</td><td>Laidback Trip</td><td>3000</td></tr><tr><td>Sweden</td><td>I. Sánchez</td><td>214</td></tr><tr><td>Tanzania</td><td>mj</td><td>26</td></tr><tr><td>Togo</td><td>debra</td><td>4000</td></tr><tr><td>Tonga</td><td>Grecia Perales</td><td>0</td></tr><tr><td>Trinidad and Tobago</td><td>Syndi Mulcahy</td><td>254</td></tr><tr><td>Tunisia</td><td>El blog amarillo</td><td>66000</td></tr><tr><td>Turkey</td><td>My Little Poppies (Cait Curley, MA/CAGS)</td><td>9000</td></tr><tr><td>Turkmenistan</td><td>Dionne ❤️ Home & Life Organized</td><td>7000</td></tr><tr><td>Tuvalu</td><td>Addymae Rodi</td><td>41</td></tr><tr><td>Uganda</td><td>Inspired by Charm</td><td>3000000</td></tr><tr><td>Venezuela</td><td>My Poppet - A Craft, Travel & Food Blog for Colourful Living</td><td>100000</td></tr><tr><td>Vietnam</td><td>Leanne | Midlife Blogger at www.crestingthehill.com.au</td><td>15000</td></tr><tr><td>Wallis and Futuna</td><td>Organize Ways</td><td>2000</td></tr></tbody></table></div>"
      ]
     },
     "metadata": {
      "application/vnd.databricks.v1+output": {
       "addedWidgets": {},
       "aggData": [],
       "aggError": "",
       "aggOverflow": false,
       "aggSchema": [],
       "aggSeriesLimitReached": false,
       "aggType": "",
       "arguments": {},
       "columnCustomDisplayInfos": {},
       "data": [
        [
         "Afghanistan",
         "9GAG",
         3000000
        ],
        [
         "Albania",
         "The Minds Journal",
         5000000
        ],
        [
         "Algeria",
         "YourTango",
         942000
        ],
        [
         "American Samoa",
         "Mamas Uncut",
         8000000
        ],
        [
         "Andorra",
         "Teachers Pay Teachers",
         1000000
        ],
        [
         "Angola",
         "Tastemade",
         8000000
        ],
        [
         "Anguilla",
         "Kristen | Lifestyle, Mom Tips & Teacher Stuff Blog",
         92000
        ],
        [
         "Antarctica (the territory South of 60 deg S)",
         "Refinery29",
         1000000
        ],
        [
         "Antigua and Barbuda",
         "Country Living Magazine",
         1000000
        ],
        [
         "Argentina",
         "Next Luxury",
         800000
        ],
        [
         "Armenia",
         "Michelle {CraftyMorning.com}",
         892000
        ],
        [
         "Aruba",
         "GQ Magazine",
         874000
        ],
        [
         "Australia",
         "Cultura Colectiva",
         1000000
        ],
        [
         "Austria",
         "Totschooling | Toddler & Preschool Printable Activities",
         161000
        ],
        [
         "Azerbaijan",
         "Style Me Pretty",
         6000000
        ],
        [
         "Bahamas",
         "The Kitchen Table Classroom",
         221000
        ],
        [
         "Bahrain",
         "R.J. Weiss at The Ways To Wealth | Personal Finance | Debt Payoff",
         46000
        ],
        [
         "Bangladesh",
         "Better Homes and Gardens",
         4000000
        ],
        [
         "Barbados",
         "The Creativity Exchange",
         410000
        ],
        [
         "Belarus",
         "Ricky Lee",
         709
        ],
        [
         "Belgium",
         "Happy Toddler Playtime",
         73000
        ],
        [
         "Belize",
         "Clary | IKEA hacks & DIY Project for home",
         67000
        ],
        [
         "Benin",
         "Smart Cents Mom",
         49000
        ],
        [
         "Bermuda",
         "Life on Summerhill | Home, Holiday Decor & DIY Website",
         46000
        ],
        [
         "Bhutan",
         "Kids Crafts & Free Preschool Printables- Sharing Our Experiences",
         3000
        ],
        [
         "Bolivia",
         "Kimberly West (a girl and a glue gun)",
         243000
        ],
        [
         "Bosnia and Herzegovina",
         "A Wonderful Thought",
         37000
        ],
        [
         "Botswana",
         "OkChicas",
         3000000
        ],
        [
         "Bouvet Island (Bouvetoya)",
         "POPSUGAR",
         5000000
        ],
        [
         "Brazil",
         "Budget with Rachel",
         11000
        ],
        [
         "British Virgin Islands",
         "Kitchen Fun With My 3 Sons",
         245000
        ],
        [
         "Brunei Darussalam",
         "Kids Craft Room",
         277000
        ],
        [
         "Bulgaria",
         "Half Baked Harvest",
         912000
        ],
        [
         "Burkina Faso",
         "Behance",
         6000000
        ],
        [
         "Burundi",
         "Macho Moda",
         620000
        ],
        [
         "Cambodia",
         "Mixed Media Crafts",
         6000
        ],
        [
         "Cameroon",
         "Made to be a Momma",
         85000
        ],
        [
         "Canada",
         "Twelve On Main",
         142000
        ],
        [
         "Cape Verde",
         "Sand and Sisal",
         178000
        ],
        [
         "Cayman Islands",
         "Our Escape Clause l Travel in Europe & Beyond",
         15000
        ],
        [
         "Central African Republic",
         "PureWow",
         868000
        ],
        [
         "Chile",
         "Amber Strong - The Maker’s Map | DIY’s, Crafts & Home Decor",
         19000
        ],
        [
         "Christmas Island",
         "Instructables",
         3000000
        ],
        [
         "Cocos (Keeling) Islands",
         "The World Was Here First",
         5000
        ],
        [
         "Colombia",
         "Jordan Page | Fun Cheap or Free",
         152000
        ],
        [
         "Comoros",
         "Becky Mansfield - YourModernFamily ",
         196000
        ],
        [
         "Congo",
         "The Cards We Drew",
         64000
        ],
        [
         "Costa Rica",
         "Martha Stewart Living",
         2000000
        ],
        [
         "Cote d'Ivoire",
         "The Crafting Chicks",
         192000
        ],
        [
         "Croatia",
         "Live Like You Are Rich | Finances, Pregnancy, Recipes & More",
         134000
        ],
        [
         "Cuba",
         "Decluttering Your Life",
         102000
        ],
        [
         "Cyprus",
         "Lantern Lane Designs|Home Decor|DIY Projects|DIY Home Decor",
         25000
        ],
        [
         "Czech Republic",
         "Tatertots and Jello .com",
         398000
        ],
        [
         "Denmark",
         "A Life Adjacent",
         36000
        ],
        [
         "Djibouti",
         "Katepickle - picklebums - fun ideas for families",
         130000
        ],
        [
         "Dominica",
         "Monique - Living Life and Learning",
         67000
        ],
        [
         "Dominican Republic",
         "Wonder Forest",
         104000
        ],
        [
         "Ecuador",
         "LABONNI",
         84000
        ],
        [
         "Egypt",
         "Lists For All",
         11000
        ],
        [
         "El Salvador",
         "Power of Positivity",
         221000
        ],
        [
         "Equatorial Guinea",
         "Whisper Wanderlust * Travel Blog",
         10000
        ],
        [
         "Estonia",
         "Decorator's Warehouse",
         6000
        ],
        [
         "Ethiopia",
         "Sarah Wahl | Crestfox",
         17000
        ],
        [
         "Faroe Islands",
         "Veterans United Home Loans",
         11000
        ],
        [
         "Fiji",
         "Teach Create Motivate",
         41000
        ],
        [
         "Finland",
         "Amee",
         79000
        ],
        [
         "France",
         "Hey Pretty Beauty Blog",
         7000
        ],
        [
         "French Guiana",
         "Sweet Red Poppy Free Sewing Patterns, Cut Files & Craft Tutorials",
         241000
        ],
        [
         "French Polynesia",
         "Alexandra Polunin",
         16000
        ],
        [
         "French Southern Territories",
         "Salvaged Living",
         40000
        ],
        [
         "Gabon",
         "Expatolife",
         7000
        ],
        [
         "Georgia",
         "Susie Allison | Busy Toddler",
         203000
        ],
        [
         "Germany",
         "Middle Class Dad",
         10000
        ],
        [
         "Ghana",
         "jennifer",
         191
        ],
        [
         "Gibraltar",
         "TheSuperBOO!",
         89000
        ],
        [
         "Greece",
         "Thirty Handmade Days",
         397000
        ],
        [
         "Grenada",
         "Young Adult Money",
         9000
        ],
        [
         "Guadeloupe",
         "Mommyhooding",
         13000
        ],
        [
         "Guam",
         "Amanda Green Bottoms @ kevinandamanda.com",
         219000
        ],
        [
         "Guatemala",
         "Menucha - Moms and Crafters",
         85000
        ],
        [
         "Guinea",
         "Pam from Over the Big Moon",
         79000
        ],
        [
         "Guinea-Bissau",
         "The Inspiration Edit - Best Instant Pot Recipes And Kids Crafts",
         56000
        ],
        [
         "Holy See (Vatican City State)",
         "Mich Cam",
         831
        ],
        [
         "Hungary",
         "BalsaCircle",
         2000
        ],
        [
         "India",
         "Happiness is Homemade | Crafts, Printables, Party Ideas, & More!",
         167000
        ],
        [
         "Indonesia",
         "Lifehacker",
         141000
        ],
        [
         "Iran",
         "Mandy Yancer",
         150
        ],
        [
         "Ireland",
         "Seeking Lavender Lane",
         49000
        ],
        [
         "Isle of Man",
         "Abbotts At Home",
         52000
        ],
        [
         "Israel",
         "LISA MASLYK / VOICE OVER TALENT /ACTOR",
         3000
        ],
        [
         "Jamaica",
         "Financial Toolkit",
         19000
        ],
        [
         "Japan",
         "Eyes On Walls",
         17000
        ],
        [
         "Kenya",
         "Laura- Inspire My Play | Play & Learning For Little Kids",
         4000
        ],
        [
         "Kiribati",
         "𝒍𝒖𝒄𝒉𝒊𝒊 ♡︎ ",
         8
        ],
        [
         "Korea",
         "Latest Hairstyles",
         627000
        ],
        [
         "Kuwait",
         "JDaniel4's Mom",
         63000
        ],
        [
         "Latvia",
         "Royal Fashionist",
         188000
        ],
        [
         "Lesotho",
         "The Guardian",
         908000
        ],
        [
         "Libyan Arab Jamahiriya",
         "miss coco",
         157000
        ],
        [
         "Liechtenstein",
         "Sophie's Way",
         10000
        ],
        [
         "Lithuania",
         "The Bespoke ELA Classroom",
         10000
        ],
        [
         "Luxembourg",
         "Linda Kamp-Around The Kampfire",
         35000
        ],
        [
         "Macao",
         "Vanessa Ferran",
         3000
        ],
        [
         "Macedonia",
         "Mary",
         7000
        ],
        [
         "Madagascar",
         "MomAdvice",
         112000
        ],
        [
         "Malawi",
         "Avenly Lane | Beauty, Fashion & Travel Inspiration",
         14000
        ],
        [
         "Maldives",
         "Parents",
         416000
        ],
        [
         "Mali",
         "Mobile Home Living®",
         122000
        ],
        [
         "Malta",
         "Luis Alberto Martinez",
         13
        ],
        [
         "Marshall Islands",
         "Dashing Darlin' ",
         13000
        ],
        [
         "Martinique",
         "Heart Handmade UK | Craft Room Ideas, Craft Ideas For Adults",
         1000000
        ],
        [
         "Mauritania",
         "The Literacy Nest",
         22000
        ],
        [
         "Mauritius",
         "Cool Things- Drawing Ideas , Fashion ,Beautiy and Home Decor",
         46000
        ],
        [
         "Moldova",
         "A Blossoming Life DIY Projects + Recipes +     Natural Living",
         44000
        ],
        [
         "Monaco",
         "Artists Network",
         227000
        ],
        [
         "Montserrat",
         "Taming Little Monsters - Fun Activities for Kids",
         4000
        ],
        [
         "Morocco",
         "Two Southern Sweeties | Life After 50 + Second Act Lifestyle",
         13000
        ],
        [
         "Mozambique",
         "Stylin by Aylin",
         83000
        ],
        [
         "Namibia",
         "Snappy Gourmet",
         168000
        ],
        [
         "Nauru",
         "The Intrepid Guide | Language Learning for Travel",
         45000
        ],
        [
         "Netherlands",
         "PUFIK Interiors & Inspirations",
         136000
        ],
        [
         "Netherlands Antilles",
         "Kim Cook-Thirteen Chairs-Slates Mugs And Tees",
         7000
        ],
        [
         "New Caledonia",
         "Au'vey Smith",
         377
        ],
        [
         "New Zealand",
         "ZENIDEES",
         19000
        ],
        [
         "Nicaragua",
         "Land Rover USA",
         9000
        ],
        [
         "Niger",
         "The Edvocate",
         4000
        ],
        [
         "Nigeria",
         "eyelashdance",
         164
        ],
        [
         "Niue",
         "Michelle | Brown Eyed Baker",
         271000
        ],
        [
         "Norfolk Island",
         "Lifestyle DIYW \"Live Life & Do IT Your Way\"",
         6000
        ],
        [
         "Norway",
         "DailyDose",
         189
        ],
        [
         "Panama",
         "Alanna | Periodic Adventures",
         1000
        ],
        [
         "Papua New Guinea",
         "AnnaLee Kick",
         112
        ],
        [
         "Paraguay",
         "Michal McCamman",
         392
        ],
        [
         "Peru",
         "Clar",
         21
        ],
        [
         "Philippines",
         "Life of Neon | Custom Neon Light Signs | Home Decor Wall Art",
         111
        ],
        [
         "Pitcairn Islands",
         "Marla Meridith",
         671000
        ],
        [
         "Poland",
         "BEIMER",
         265
        ],
        [
         "Portugal",
         "Lindsey Blogs",
         29000
        ],
        [
         "Puerto Rico",
         "Book More Brides",
         1000
        ],
        [
         "Romania",
         "Soberbadassery | Your Free Online Guide To Sober Living ",
         9000
        ],
        [
         "Saint Barthelemy",
         "Alexandria Franko",
         517
        ],
        [
         "Saint Helena",
         "The Pamper Place",
         328
        ],
        [
         "Saint Kitts and Nevis",
         "vintagetopia",
         171000
        ],
        [
         "Saint Martin",
         "Montgo Farmhouse",
         9000
        ],
        [
         "Saint Pierre and Miquelon",
         "Ebbert Barnes",
         323
        ],
        [
         "Saint Vincent and the Grenadines",
         "Home Etc",
         13
        ],
        [
         "Samoa",
         "Desiree Weitzenhoffer",
         196
        ],
        [
         "Sao Tome and Principe",
         "kayyla.april",
         2000
        ],
        [
         "Saudi Arabia",
         "Edwin | Cash The Checks | Find Your Perfect Side Hustle",
         223
        ],
        [
         "Serbia",
         "VEM Designs",
         78
        ],
        [
         "Seychelles",
         "ALL FOR WOMAN",
         21000
        ],
        [
         "Singapore",
         "Lionel Leon",
         387
        ],
        [
         "Slovakia (Slovak Republic)",
         "CollectorCarAds.com",
         11000
        ],
        [
         "Slovenia",
         "Vsnicholls",
         746
        ],
        [
         "Solomon Islands",
         "Upcyclist",
         7000
        ],
        [
         "Somalia",
         "PutTheKettleOn | Self Care & Personal Growth For a Life You Love",
         27000
        ],
        [
         "South Africa",
         "Sophie Watters",
         3000
        ],
        [
         "Sudan",
         "iElylike ..✿◕‿◕✿ஐ✿◕‿◕✿",
         940
        ],
        [
         "Svalbard & Jan Mayen Islands",
         "CK Travels (Travel Bloggers)",
         5000
        ],
        [
         "Swaziland",
         "Laidback Trip",
         3000
        ],
        [
         "Sweden",
         "I. Sánchez",
         214
        ],
        [
         "Tanzania",
         "mj",
         26
        ],
        [
         "Togo",
         "debra",
         4000
        ],
        [
         "Tonga",
         "Grecia Perales",
         0
        ],
        [
         "Trinidad and Tobago",
         "Syndi Mulcahy",
         254
        ],
        [
         "Tunisia",
         "El blog amarillo",
         66000
        ],
        [
         "Turkey",
         "My Little Poppies (Cait Curley, MA/CAGS)",
         9000
        ],
        [
         "Turkmenistan",
         "Dionne ❤️ Home & Life Organized",
         7000
        ],
        [
         "Tuvalu",
         "Addymae Rodi",
         41
        ],
        [
         "Uganda",
         "Inspired by Charm",
         3000000
        ],
        [
         "Venezuela",
         "My Poppet - A Craft, Travel & Food Blog for Colourful Living",
         100000
        ],
        [
         "Vietnam",
         "Leanne | Midlife Blogger at www.crestingthehill.com.au",
         15000
        ],
        [
         "Wallis and Futuna",
         "Organize Ways",
         2000
        ]
       ],
       "datasetInfos": [],
       "dbfsResultPath": null,
       "isJsonSchema": true,
       "metadata": {},
       "overflow": false,
       "plotOptions": {
        "customPlotOptions": {},
        "displayType": "table",
        "pivotAggregation": null,
        "pivotColumns": null,
        "xColumns": null,
        "yColumns": null
       },
       "removedWidgets": [],
       "schema": [
        {
         "metadata": "{}",
         "name": "country",
         "type": "\"string\""
        },
        {
         "metadata": "{}",
         "name": "poster_name",
         "type": "\"string\""
        },
        {
         "metadata": "{}",
         "name": "follower_count",
         "type": "\"integer\""
        }
       ],
       "type": "table"
      }
     },
     "output_type": "display_data"
    },
    {
     "output_type": "display_data",
     "data": {
      "text/html": [
       "<style scoped>\n",
       "  .table-result-container {\n",
       "    max-height: 300px;\n",
       "    overflow: auto;\n",
       "  }\n",
       "  table, th, td {\n",
       "    border: 1px solid black;\n",
       "    border-collapse: collapse;\n",
       "  }\n",
       "  th, td {\n",
       "    padding: 5px;\n",
       "  }\n",
       "  th {\n",
       "    text-align: left;\n",
       "  }\n",
       "</style><div class='table-result-container'><table class='table-result'><thead style='background-color: white'><tr><th>country</th><th>follower_count</th></tr></thead><tbody><tr><td>American Samoa</td><td>8000000</td></tr></tbody></table></div>"
      ]
     },
     "metadata": {
      "application/vnd.databricks.v1+output": {
       "addedWidgets": {},
       "aggData": [],
       "aggError": "",
       "aggOverflow": false,
       "aggSchema": [],
       "aggSeriesLimitReached": false,
       "aggType": "",
       "arguments": {},
       "columnCustomDisplayInfos": {},
       "data": [
        [
         "American Samoa",
         8000000
        ]
       ],
       "datasetInfos": [],
       "dbfsResultPath": null,
       "isJsonSchema": true,
       "metadata": {},
       "overflow": false,
       "plotOptions": {
        "customPlotOptions": {},
        "displayType": "table",
        "pivotAggregation": null,
        "pivotColumns": null,
        "xColumns": null,
        "yColumns": null
       },
       "removedWidgets": [],
       "schema": [
        {
         "metadata": "{}",
         "name": "country",
         "type": "\"string\""
        },
        {
         "metadata": "{}",
         "name": "follower_count",
         "type": "\"integer\""
        }
       ],
       "type": "table"
      }
     },
     "output_type": "display_data"
    }
   ],
   "source": [
    "top_user_per_country=spark.sql(\"\"\"\n",
    "    with CountryMaxFollowers as (\n",
    "        select\n",
    "        geo.country as country,\n",
    "        pin.poster_name as poster_name,\n",
    "        pin.follower_count as follower_count,\n",
    "        row_number() over (partition by country order by pin.follower_count desc)\n",
    "        as rank\n",
    "        from\n",
    "            df_pin pin\n",
    "        join\n",
    "            df_geo geo\n",
    "        on\n",
    "            geo.ind=pin.ind \n",
    "\n",
    "        \n",
    "    )\n",
    "    select \n",
    "        country,\n",
    "        poster_name,\n",
    "        follower_count\n",
    "    from CountryMaxFollowers\n",
    "    where\n",
    "    rank=1\n",
    "                               \"\"\")\n",
    "display(top_user_per_country)\n",
    "top_user_per_country.createOrReplaceTempView(\"top_user_per_country_view\")\n",
    "\n",
    "country_with_user_with_most_followers=spark.sql(\"\"\"\n",
    "SELECT \n",
    "        country, \n",
    "        MAX(follower_count) as follower_count\n",
    "    FROM \n",
    "        top_user_per_country_view\n",
    "    GROUP BY \n",
    "        country\n",
    "    ORDER BY \n",
    "        follower_count DESC\n",
    "    LIMIT 1\n",
    "                                         \"\"\")\n",
    "display(country_with_user_with_most_followers)"
   ]
  },
  {
   "cell_type": "code",
   "execution_count": 0,
   "metadata": {
    "application/vnd.databricks.v1+cell": {
     "cellMetadata": {
      "byteLimit": 2048000,
      "rowLimit": 10000
     },
     "inputWidgets": {},
     "nuid": "c73b8c8c-d32d-4f57-a92a-912f30c50438",
     "showTitle": false,
     "title": ""
    },
    "jupyter": {
     "outputs_hidden": true,
     "source_hidden": true
    }
   },
   "outputs": [
    {
     "output_type": "display_data",
     "data": {
      "text/html": [
       "<style scoped>\n",
       "  .table-result-container {\n",
       "    max-height: 300px;\n",
       "    overflow: auto;\n",
       "  }\n",
       "  table, th, td {\n",
       "    border: 1px solid black;\n",
       "    border-collapse: collapse;\n",
       "  }\n",
       "  th, td {\n",
       "    padding: 5px;\n",
       "  }\n",
       "  th {\n",
       "    text-align: left;\n",
       "  }\n",
       "</style><div class='table-result-container'><table class='table-result'><thead style='background-color: white'><tr><th>age_group</th><th>category</th><th>category_count</th></tr></thead><tbody><tr><td>+50</td><td>beauty</td><td>45</td></tr><tr><td>18-24</td><td>tattoos</td><td>132</td></tr><tr><td>25-35</td><td>travel</td><td>90</td></tr><tr><td>36-50</td><td>diy-and-crafts</td><td>65</td></tr></tbody></table></div>"
      ]
     },
     "metadata": {
      "application/vnd.databricks.v1+output": {
       "addedWidgets": {},
       "aggData": [],
       "aggError": "",
       "aggOverflow": false,
       "aggSchema": [],
       "aggSeriesLimitReached": false,
       "aggType": "",
       "arguments": {},
       "columnCustomDisplayInfos": {},
       "data": [
        [
         "+50",
         "beauty",
         45
        ],
        [
         "18-24",
         "tattoos",
         132
        ],
        [
         "25-35",
         "travel",
         90
        ],
        [
         "36-50",
         "diy-and-crafts",
         65
        ]
       ],
       "datasetInfos": [],
       "dbfsResultPath": null,
       "isJsonSchema": true,
       "metadata": {},
       "overflow": false,
       "plotOptions": {
        "customPlotOptions": {},
        "displayType": "table",
        "pivotAggregation": null,
        "pivotColumns": null,
        "xColumns": null,
        "yColumns": null
       },
       "removedWidgets": [],
       "schema": [
        {
         "metadata": "{}",
         "name": "age_group",
         "type": "\"string\""
        },
        {
         "metadata": "{}",
         "name": "category",
         "type": "\"string\""
        },
        {
         "metadata": "{}",
         "name": "category_count",
         "type": "\"long\""
        }
       ],
       "type": "table"
      }
     },
     "output_type": "display_data"
    }
   ],
   "source": [
    "category_popularity_by_age_group=spark.sql(\"\"\"\n",
    "    with agegroups as (\n",
    "        SELECT\n",
    "            ind,\n",
    "            CASE \n",
    "                WHEN age between 18 and 24 then \"18-24\"\n",
    "                WHEN age between 25 and 35 then \"25-35\"\n",
    "                WHEN age between 36 and 50 then \"36-50\"\n",
    "                ELSE \"+50\"\n",
    "            END AS age_group\n",
    "        from\n",
    "        df_user\n",
    "    ),\n",
    "    category_age_group as(\n",
    "        select \n",
    "            agegroups.age_group,\n",
    "            pin.category,\n",
    "            count(pin.category) as category_count,\n",
    "            row_number() over(partition by age_group order by count(pin.category)desc) as rank\n",
    "        from\n",
    "            df_pin pin\n",
    "        join\n",
    "            agegroups\n",
    "        on \n",
    "            pin.ind=agegroups.ind\n",
    "        group by\n",
    "            agegroups.age_group,\n",
    "            pin.category\n",
    ")\n",
    "        SELECT\n",
    "    age_group,\n",
    "    category,\n",
    "    category_count\n",
    "FROM category_age_group\n",
    "where rank=1\n",
    "\n",
    "\n",
    "\n",
    "\"\"\")\n",
    "display(category_popularity_by_age_group)"
   ]
  },
  {
   "cell_type": "code",
   "execution_count": 0,
   "metadata": {
    "application/vnd.databricks.v1+cell": {
     "cellMetadata": {
      "byteLimit": 2048000,
      "rowLimit": 10000
     },
     "inputWidgets": {},
     "nuid": "0da2f1f9-5242-4e01-944d-4eab60685ebe",
     "showTitle": false,
     "title": ""
    },
    "jupyter": {
     "outputs_hidden": true,
     "source_hidden": true
    }
   },
   "outputs": [
    {
     "output_type": "display_data",
     "data": {
      "text/html": [
       "<style scoped>\n",
       "  .table-result-container {\n",
       "    max-height: 300px;\n",
       "    overflow: auto;\n",
       "  }\n",
       "  table, th, td {\n",
       "    border: 1px solid black;\n",
       "    border-collapse: collapse;\n",
       "  }\n",
       "  th, td {\n",
       "    padding: 5px;\n",
       "  }\n",
       "  th {\n",
       "    text-align: left;\n",
       "  }\n",
       "</style><div class='table-result-container'><table class='table-result'><thead style='background-color: white'><tr><th>median_follower_count</th><th>age_group</th></tr></thead><tbody><tr><td>6000</td><td>36-50</td></tr><tr><td>1000</td><td>+50</td></tr><tr><td>108000</td><td>18-24</td></tr><tr><td>28000</td><td>25-35</td></tr></tbody></table></div>"
      ]
     },
     "metadata": {
      "application/vnd.databricks.v1+output": {
       "addedWidgets": {},
       "aggData": [],
       "aggError": "",
       "aggOverflow": false,
       "aggSchema": [],
       "aggSeriesLimitReached": false,
       "aggType": "",
       "arguments": {},
       "columnCustomDisplayInfos": {},
       "data": [
        [
         6000,
         "36-50"
        ],
        [
         1000,
         "+50"
        ],
        [
         108000,
         "18-24"
        ],
        [
         28000,
         "25-35"
        ]
       ],
       "datasetInfos": [],
       "dbfsResultPath": null,
       "isJsonSchema": true,
       "metadata": {},
       "overflow": false,
       "plotOptions": {
        "customPlotOptions": {},
        "displayType": "table",
        "pivotAggregation": null,
        "pivotColumns": null,
        "xColumns": null,
        "yColumns": null
       },
       "removedWidgets": [],
       "schema": [
        {
         "metadata": "{}",
         "name": "median_follower_count",
         "type": "\"integer\""
        },
        {
         "metadata": "{}",
         "name": "age_group",
         "type": "\"string\""
        }
       ],
       "type": "table"
      }
     },
     "output_type": "display_data"
    }
   ],
   "source": [
    "median_follower_count=spark.sql(\"\"\"\n",
    "    with agegroups as (\n",
    "        SELECT\n",
    "            ind,\n",
    "            CASE \n",
    "                WHEN age between 18 and 24 then \"18-24\"\n",
    "                WHEN age between 25 and 35 then \"25-35\"\n",
    "                WHEN age between 36 and 50 then \"36-50\"\n",
    "                ELSE \"+50\"\n",
    "            END AS age_group\n",
    "        from\n",
    "        df_user\n",
    "    )\n",
    "    select\n",
    "         percentile_approx(pin.follower_count, 0.5) AS median_follower_count,\n",
    "        agegroups.age_group as age_group\n",
    "    from \n",
    "        df_pin pin\n",
    "    join\n",
    "        agegroups\n",
    "    on\n",
    "        agegroups.ind=pin.ind\n",
    "    group by\n",
    "        age_group\n",
    "\n",
    "\"\"\")\n",
    "display(median_follower_count)"
   ]
  },
  {
   "cell_type": "code",
   "execution_count": 0,
   "metadata": {
    "application/vnd.databricks.v1+cell": {
     "cellMetadata": {
      "byteLimit": 2048000,
      "rowLimit": 10000
     },
     "inputWidgets": {},
     "nuid": "4b77a44a-49ed-472e-9aa6-348e4d078aec",
     "showTitle": false,
     "title": ""
    },
    "jupyter": {
     "outputs_hidden": true,
     "source_hidden": true
    }
   },
   "outputs": [
    {
     "output_type": "display_data",
     "data": {
      "text/html": [
       "<style scoped>\n",
       "  .table-result-container {\n",
       "    max-height: 300px;\n",
       "    overflow: auto;\n",
       "  }\n",
       "  table, th, td {\n",
       "    border: 1px solid black;\n",
       "    border-collapse: collapse;\n",
       "  }\n",
       "  th, td {\n",
       "    padding: 5px;\n",
       "  }\n",
       "  th {\n",
       "    text-align: left;\n",
       "  }\n",
       "</style><div class='table-result-container'><table class='table-result'><thead style='background-color: white'><tr><th>post_year</th><th>number_users_joined</th></tr></thead><tbody><tr><td>2015</td><td>54</td></tr><tr><td>null</td><td>464</td></tr><tr><td>2016</td><td>66</td></tr><tr><td>2017</td><td>24</td></tr></tbody></table></div>"
      ]
     },
     "metadata": {
      "application/vnd.databricks.v1+output": {
       "addedWidgets": {},
       "aggData": [],
       "aggError": "",
       "aggOverflow": false,
       "aggSchema": [],
       "aggSeriesLimitReached": false,
       "aggType": "",
       "arguments": {},
       "columnCustomDisplayInfos": {},
       "data": [
        [
         2015,
         54
        ],
        [
         null,
         464
        ],
        [
         2016,
         66
        ],
        [
         2017,
         24
        ]
       ],
       "datasetInfos": [],
       "dbfsResultPath": null,
       "isJsonSchema": true,
       "metadata": {},
       "overflow": false,
       "plotOptions": {
        "customPlotOptions": {},
        "displayType": "table",
        "pivotAggregation": null,
        "pivotColumns": null,
        "xColumns": null,
        "yColumns": null
       },
       "removedWidgets": [],
       "schema": [
        {
         "metadata": "{}",
         "name": "post_year",
         "type": "\"integer\""
        },
        {
         "metadata": "{}",
         "name": "number_users_joined",
         "type": "\"long\""
        }
       ],
       "type": "table"
      }
     },
     "output_type": "display_data"
    }
   ],
   "source": [
    "yearly_users_joining=spark.sql(\"\"\"\n",
    "    SELECT\n",
    "        year(date_joined) as post_year,\n",
    "        count(ind) as number_users_joined\n",
    "    FROM \n",
    "        df_user\n",
    "    GROUP BY\n",
    "        year(date_joined)\n",
    "        \"\"\")\n",
    "display(yearly_users_joining)"
   ]
  },
  {
   "cell_type": "code",
   "execution_count": 0,
   "metadata": {
    "application/vnd.databricks.v1+cell": {
     "cellMetadata": {},
     "inputWidgets": {},
     "nuid": "f6fa2a86-7223-4a68-be62-215c8ff342e8",
     "showTitle": false,
     "title": ""
    }
   },
   "outputs": [],
   "source": []
  }
 ],
 "metadata": {
  "application/vnd.databricks.v1+notebook": {
   "dashboards": [],
   "language": "python",
   "notebookMetadata": {
    "pythonIndentUnit": 4
   },
   "notebookName": "SQL Queries",
   "widgets": {}
  }
 },
 "nbformat": 4,
 "nbformat_minor": 0
}
